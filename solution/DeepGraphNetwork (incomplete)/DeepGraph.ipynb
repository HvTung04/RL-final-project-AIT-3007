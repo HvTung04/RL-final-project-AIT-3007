{
  "cells": [
    {
      "cell_type": "code",
      "execution_count": 1,
      "metadata": {
        "id": "VI0i44SXb1dg"
      },
      "outputs": [],
      "source": [
        "from magent2.environments import battle_v4\n",
        "import torch\n",
        "import torch.nn as nn\n",
        "import torch.nn.functional as F\n",
        "import matplotlib.pyplot as plt\n",
        "import numpy as np\n",
        "import torch.optim as optim\n",
        "from tqdm import tqdm\n",
        "%matplotlib inline"
      ]
    },
    {
      "cell_type": "code",
      "execution_count": 2,
      "metadata": {
        "id": "9eGwUjECcIeh"
      },
      "outputs": [],
      "source": [
        "device = torch.device(\"cuda\" if torch.cuda.is_available() else \"cpu\")"
      ]
    },
    {
      "cell_type": "code",
      "execution_count": 3,
      "metadata": {
        "id": "aK7WT-qxb1di"
      },
      "outputs": [],
      "source": [
        "# Turn on minimap mode for agent's location\n",
        "env = battle_v4.env(map_size=45, render_mode='rgb_array', minimap_mode=True, max_cycles=300)"
      ]
    },
    {
      "cell_type": "code",
      "execution_count": 4,
      "metadata": {
        "id": "70pyWvTub1dj"
      },
      "outputs": [],
      "source": [
        "# MLP for observation encoding\n",
        "\n",
        "class MLP(nn.Module):\n",
        "    def __init__(self, observation_shape=(13, 13, 9), feature_dim=128):\n",
        "        super(MLP, self).__init__()\n",
        "\n",
        "        # Calculate the flattened input size\n",
        "        self.input_dim = observation_shape[0] * observation_shape[1] * observation_shape[2]  # 13 * 13 * 9\n",
        "\n",
        "        # Define the network layers\n",
        "        self.layers = nn.Sequential(\n",
        "            # First flatten the input\n",
        "            nn.Flatten(),\n",
        "\n",
        "            # First dense layer with 512 units\n",
        "            nn.Linear(self.input_dim, 512),\n",
        "            nn.ReLU(),\n",
        "\n",
        "            # Second dense layer with feature_dim units (128 in original)\n",
        "            nn.Linear(512, feature_dim),\n",
        "            nn.ReLU()\n",
        "        )\n",
        "\n",
        "        # Reshape layer to match original output shape (1, feature_dim)\n",
        "        self.feature_dim = feature_dim\n",
        "\n",
        "    def forward(self, x):\n",
        "        # x shape: (13, 13, 9)\n",
        "        if len(x.shape) == 3:\n",
        "            x = x.unsqueeze(0)\n",
        "\n",
        "        # x shape: (batch_size, 13, 13, 9)\n",
        "\n",
        "        x = x.permute(0, 3, 1, 2)\n",
        "\n",
        "        # Pass through MLP layers\n",
        "        features = self.layers(x)\n",
        "\n",
        "        # Reshape to (batch_size, 1, feature_dim) to match original output shape\n",
        "        features = features.unsqueeze(1)\n",
        "\n",
        "        return features"
      ]
    },
    {
      "cell_type": "code",
      "execution_count": 5,
      "metadata": {
        "id": "jZUBo9EXb1dk"
      },
      "outputs": [],
      "source": [
        "def get_team_observations(env, handle):\n",
        "    \"\"\"\n",
        "    Get team observations from environment and convert to tensor.\n",
        "\n",
        "    Args:\n",
        "        env: Environment object\n",
        "        handle: Team handle (e.g. \"red\", \"blue\")\n",
        "\n",
        "    Returns:\n",
        "        observations: List of team observations size N x 13 x 13 x 9\"\"\"\n",
        "    observations = []\n",
        "    for agent in env.possible_agents:\n",
        "        if handle in agent:\n",
        "            if env.terminations.get(agent, True) or env.truncations.get(agent, True):\n",
        "                obs = np.zeros((13, 13, 9))\n",
        "            else:\n",
        "                obs = env.observe(agent)\n",
        "            observations.append(torch.tensor(obs, dtype=torch.float32))\n",
        "\n",
        "    return observations"
      ]
    },
    {
      "cell_type": "code",
      "execution_count": 6,
      "metadata": {
        "id": "etq2zngOb1dl"
      },
      "outputs": [],
      "source": [
        "def get_agent_positions(team_obs):\n",
        "    \"\"\"\n",
        "    Extract positions of all agents from team observations.\n",
        "\n",
        "    Args:\n",
        "        team_obs: List of team observations.\n",
        "                 Each obs shape is (13, 13, 9) where:\n",
        "                 - channels[-2:] are the agent's absolute position (x, y)\n",
        "\n",
        "    Returns:\n",
        "        Dict of agent positions {agent_idx: (x, y)}\n",
        "    \"\"\"\n",
        "    positions = {}\n",
        "\n",
        "    # For each agent in the team\n",
        "    for agent_idx, obs in enumerate(team_obs):\n",
        "        # Get absolute positions from last two channels\n",
        "        x_pos = obs[0, 0, -2]  # Second to last channel for x coordinate\n",
        "        y_pos = obs[0, 0, -1]  # Last channel for y coordinate\n",
        "\n",
        "        positions[agent_idx] = (x_pos, y_pos)\n",
        "\n",
        "    return positions"
      ]
    },
    {
      "cell_type": "code",
      "execution_count": 7,
      "metadata": {
        "id": "gXDOlYQAb1dl"
      },
      "outputs": [],
      "source": [
        "def construct_adjacency_matrix(team_obs, n_neighbors=4):\n",
        "    \"\"\"\n",
        "    Construct adjacency matrix C^t_i for each agent i.\n",
        "\n",
        "    Args: Dict of team observations {agent_idx: obs}\n",
        "          n_neighbors: Number of neighbors to consider (default: 4)\n",
        "\n",
        "    Returns: List of adjacency matrices for each agent\n",
        "    \"\"\"\n",
        "    adjacency_matrices = []\n",
        "\n",
        "    # Get agent positions\n",
        "    positions = get_agent_positions(team_obs)\n",
        "    num_agents = 81\n",
        "\n",
        "    for i in positions.keys():\n",
        "        distances = []\n",
        "        for j in positions.keys():\n",
        "            if i != j:\n",
        "                # Calculate Euclidean distance between agent i and j (in normalized coordinates)\n",
        "                dist = ((positions[j][0] - positions[i][0]) ** 2 + (positions[j][1] - positions[i][1]) ** 2) ** 0.5\n",
        "                distances.append((dist, j))\n",
        "\n",
        "        distances.sort(key=lambda x: x[0])  # Sort by distance\n",
        "\n",
        "        adj_matrix = torch.zeros((n_neighbors + 1, num_agents))\n",
        "\n",
        "        adj_matrix[0, i] = 1  # Self-connection\n",
        "\n",
        "        for idx, (dist, neighbor_idx) in enumerate(distances[:n_neighbors]):\n",
        "            adj_matrix[idx + 1, neighbor_idx] = 1\n",
        "\n",
        "        while(len(distances) < n_neighbors + 1):\n",
        "            adj_matrix.append(torch.zeros((n_neighbors + 1, num_agents)))\n",
        "\n",
        "        adjacency_matrices.append(adj_matrix)\n",
        "\n",
        "    # Pad with zero matrices if needed\n",
        "    while len(adjacency_matrices) < num_agents:\n",
        "        adjacency_matrices.append(torch.zeros((n_neighbors + 1, num_agents)))\n",
        "\n",
        "    return adjacency_matrices"
      ]
    },
    {
      "cell_type": "code",
      "execution_count": 8,
      "metadata": {
        "id": "4eBtS-cTb1dm"
      },
      "outputs": [],
      "source": [
        "def process_timestep(env, handle):\n",
        "    \"\"\"\n",
        "    Process one timestep for all agents.\n",
        "\n",
        "    Args:\n",
        "        env: Environment object\n",
        "        handle: Team handle (e.g. \"red\", \"blue\")\n",
        "\n",
        "    Returns:\n",
        "        observations: List of size N with each element as a tensor of shape (13, 13, 9)\n",
        "        adjacency_matrices: List of size N with each element as a tensor of shape (5, N)\n",
        "    \"\"\"\n",
        "    # Get team observations\n",
        "    observations = get_team_observations(env, handle)\n",
        "\n",
        "    # Get adjacency matrices for all agents\n",
        "    adjacency_matrices = construct_adjacency_matrix(observations)\n",
        "\n",
        "    return observations, adjacency_matrices"
      ]
    },
    {
      "cell_type": "code",
      "execution_count": 9,
      "metadata": {
        "id": "GcFDfEyxb1dn"
      },
      "outputs": [],
      "source": [
        "# Multihead dot-product attention as the convolutional kernel => interaction between agents\n",
        "\n",
        "class MultiheadAttention(nn.Module):\n",
        "    \"\"\"\n",
        "    Multihead attention module for DGN\n",
        "\n",
        "    Args:\n",
        "        n_neighbors: Number of neighbors to consider\n",
        "        input_dim: Input dimension of the feature vectors\n",
        "        head_dim: Dimension of each head\n",
        "        num_heads: Number of attention heads\n",
        "        output_dim: Output dimension of the feature vectors\n",
        "    \"\"\"\n",
        "    def __init__(self, n_neighbors, input_dim, head_dim, num_heads, output_dim):\n",
        "        super(MultiheadAttention, self).__init__()\n",
        "\n",
        "        self.n_neighbors = n_neighbors\n",
        "        self.input_dim = input_dim\n",
        "        self.head_dim = head_dim\n",
        "        self.num_heads = num_heads\n",
        "        self.output_dim = output_dim\n",
        "\n",
        "        # Linear transformation for Q, K, V\n",
        "        self.query_layer = nn.Linear(input_dim, head_dim * num_heads)\n",
        "        self.key_layer = nn.Linear(input_dim, head_dim * num_heads)\n",
        "        self.value_layer = nn.Linear(input_dim, head_dim * num_heads)\n",
        "\n",
        "        # Final transformation\n",
        "        self.output_layer = nn.Linear(head_dim * num_heads, output_dim)\n",
        "\n",
        "        # ReLU activation\n",
        "        self.relu = nn.ReLU()\n",
        "\n",
        "    def forward(self, query, value, key, extra_vector):\n",
        "        \"\"\"\n",
        "        Forward pass for multihead attention\n",
        "\n",
        "        Args:\n",
        "            query: Query tensor of shape (batch_size, n_neighbors + 1, L = input_dim)\n",
        "            value: Value tensor of shape (batch_size, n_neighbors + 1, L = input_dim)\n",
        "            key: Key tensor of shape (batch_size, n_neighbors + 1, L = input_dim)\n",
        "            extra_vector: Extra vector of shape (batch_size, 1, n_neighbors + 1)\n",
        "\n",
        "        Returns:\n",
        "            Output tensor of shape (batch_size, 1, output_dim)\n",
        "        \"\"\"\n",
        "        if query.dim() == 2:\n",
        "            query = query.unsqueeze(0)\n",
        "            key = key.unsqueeze(0)\n",
        "            value = value.unsqueeze(0)\n",
        "            extra_vector = extra_vector.unsqueeze(0)\n",
        "\n",
        "        batch_size = query.size(0)\n",
        "\n",
        "        # Linear transformation with ReLU\n",
        "        query_2 = self.relu(self.query_layer(query)) # Shape (batch_size, n_neighbors + 1, head_dim * num_heads)\n",
        "        key_2 = self.relu(self.key_layer(key))  # Shape (batch_size, n_neighbors + 1, head_dim * num_heads)\n",
        "        value_2 = self.relu(self.value_layer(value))    # Shape (batch_size, n_neighbors + 1, head_dim * num_heads)\n",
        "\n",
        "        # Reshape to separate heads\n",
        "        # Shape (batch_size, n_neighbors + 1, num_heads, head_dim)\n",
        "        reshaped_query = query_2.view(batch_size, self.n_neighbors + 1, self.num_heads, self.head_dim)\n",
        "        reshaped_key = key_2.view(batch_size, self.n_neighbors + 1, self.num_heads, self.head_dim)\n",
        "        reshaped_value = value_2.view(batch_size, self.n_neighbors + 1, self.num_heads, self.head_dim)\n",
        "\n",
        "        # Permute dimensions for attention\n",
        "        # Shape (batch_size, num_heads, n_neighbors + 1, head_dim)\n",
        "        final_query = reshaped_query.permute(0, 2, 1, 3)\n",
        "        final_key = reshaped_key.permute(0, 2, 1, 3)\n",
        "        final_value = reshaped_value.permute(0, 2, 1, 3)\n",
        "\n",
        "\n",
        "        # Scaled dot-product attention\n",
        "        attention_scores = torch.matmul(final_query, final_key.transpose(-2, -1)) / np.sqrt(self.head_dim)  # (batch_size, num_heads, n_neighbors + 1, n_neighbors + 1)\n",
        "        attention_weights = F.softmax(attention_scores, dim=-1)  # (batch_size, num_heads, n_neighbors + 1, n_neighbors + 1)\n",
        "\n",
        "        # Apply attention to values\n",
        "        attention_output = torch.matmul(attention_weights, final_value)  # (batch_size, num_heads, n_neighbors + 1, head_dim)\n",
        "\n",
        "        # Permute back and reshape\n",
        "        attention_output = attention_output.permute(0, 2, 1, 3).contiguous()  # (batch_size, n_neighbors + 1, num_heads, head_dim)\n",
        "        attention_output = attention_output.view(batch_size, self.n_neighbors + 1, -1)  # (batch_size, n_neighbors + 1, num_heads * head_dim)\n",
        "\n",
        "        # Apply extra vector\n",
        "        output = torch.matmul(extra_vector, attention_output)  # (batch_size, 1, num_heads * head_dim)\n",
        "\n",
        "        # Final linear transformation\n",
        "        output = self.relu(self.output_layer(output))  # (batch_size, 1, output_dim)\n",
        "\n",
        "        return output"
      ]
    },
    {
      "cell_type": "code",
      "execution_count": 10,
      "metadata": {
        "id": "rxOmpWpCb1dp"
      },
      "outputs": [],
      "source": [
        "class QNetwork(nn.Module):\n",
        "    def __init__(self, feature_dim=128, action_dim=21):\n",
        "        super(QNetwork, self).__init__()\n",
        "\n",
        "        self.network = nn.Sequential(\n",
        "            nn.Linear(feature_dim * 3, 512),\n",
        "            nn.ReLU(),\n",
        "            nn.Linear(512, action_dim)\n",
        "        )\n",
        "\n",
        "    def forward(self, feature, relation1, relation2):\n",
        "        combined = torch.cat([feature, relation1, relation2], dim=-1)\n",
        "        return self.network(combined)"
      ]
    },
    {
      "cell_type": "code",
      "execution_count": 11,
      "metadata": {
        "id": "HIA1vbM72zWp"
      },
      "outputs": [],
      "source": [
        "def find_dead(env, handle):\n",
        "    \"\"\"\n",
        "    Find dead agents in the environment.\n",
        "\n",
        "    Args:\n",
        "        env: Environment object\n",
        "        handle: Team handle (e.g. \"red\", \"blue\")\n",
        "\n",
        "    Returns:\n",
        "        List of dead agents\n",
        "    \"\"\"\n",
        "    dead_agents = []\n",
        "    for agent in env.possible_agents:\n",
        "        if handle in agent:\n",
        "            if env.terminations.get(agent, True) or env.truncations.get(agent, True):\n",
        "                agent_id = int(agent.split('_')[1])\n",
        "                dead_agents.append(agent_id)\n",
        "    return dead_agents"
      ]
    },
    {
      "cell_type": "code",
      "execution_count": 12,
      "metadata": {
        "id": "LFwjK20nb1dq"
      },
      "outputs": [],
      "source": [
        "class DGN(nn.Module):\n",
        "    def __init__(self, observation_shape=(13, 13, 9), feature_dim=128, action_dim=21):\n",
        "        super(DGN, self).__init__()\n",
        "\n",
        "        self.feature_dim = feature_dim\n",
        "\n",
        "        self.mlp = MLP(observation_shape, feature_dim)\n",
        "\n",
        "        self.attention1 = MultiheadAttention(n_neighbors=4, input_dim=feature_dim, head_dim=16, num_heads=8, output_dim=feature_dim)\n",
        "        self.attention2 = MultiheadAttention(n_neighbors=4, input_dim=feature_dim, head_dim=16, num_heads=8, output_dim=feature_dim)\n",
        "\n",
        "        self.q_network = QNetwork(feature_dim, action_dim)\n",
        "\n",
        "        # Initialize extra_vector with batch dimension\n",
        "        self.extra_vector_template = nn.Parameter(torch.zeros(1, 1, 5))\n",
        "        nn.init.ones_(self.extra_vector_template)\n",
        "        self.extra_vector_template.data[0, 0, 0] = 1\n",
        "\n",
        "    def local_features(self, features, adjacency_matrices):\n",
        "        \"\"\"\n",
        "        Compute local features for all agents\n",
        "\n",
        "        Args:\n",
        "            features: Tensor of shape (batch_size, N, feature_dim)\n",
        "            adjacency_matrices: Tensor of shape (batch_size, n_neighbors + 1, N)\n",
        "\n",
        "        Returns:\n",
        "            local_features: Tensor of shape (batch_size, n_neighbors + 1, feature_dim)\n",
        "        \"\"\"\n",
        "        local_features = torch.matmul(adjacency_matrices, features)\n",
        "\n",
        "        return local_features\n",
        "\n",
        "    def forward(self, team_observations, adjacency_matrices):\n",
        "        \"\"\"\n",
        "        Forward pass for DGN\n",
        "\n",
        "        Args:\n",
        "            team_observations: List N Tensor of shape (batch_size, 13, 13, 9)\n",
        "            adjacency_matrices: List N Tensor of shape (batch_size, n_neighbors + 1, N)\n",
        "\n",
        "        Returns:\n",
        "            q_values: Q values of shape (batch_size, action_dim)\n",
        "        \"\"\"\n",
        "        n_agents = 81\n",
        "        if team_observations[0].dim() == 3:\n",
        "            team_observations = [obs.unsqueeze(0) for obs in team_observations]\n",
        "        batch_size = team_observations[0].size(0)\n",
        "        extra_vector = self.extra_vector_template.expand(batch_size, -1, -1)\n",
        "\n",
        "        # Etract features for all agents\n",
        "        team_features = torch.cat([self.mlp(obs) for obs in team_observations], dim=1)  # Shape (batch_size, N, feature_dim)\n",
        "\n",
        "        # First relation layer\n",
        "        local_features = [self.local_features(team_features, adjacency_matrix) for adjacency_matrix in adjacency_matrices]  # Shape (batch_size, n_neighbors + 1, feature_dim)\n",
        "        relation1 = {}\n",
        "        for i in range(n_agents):\n",
        "            query = key = value = local_features[i]\n",
        "            relation1[i] = self.attention1(query, value, key, extra_vector) # Shape (batch_size, 1, feature_dim)\n",
        "\n",
        "        # Second relation layer\n",
        "        relation2 = {}\n",
        "        for i in range(n_agents):\n",
        "            start_index = max(0, i - 4 // 2)\n",
        "            end_index = min(n_agents, start_index + 4)\n",
        "\n",
        "            start_index = max(0, end_index - 4)\n",
        "            neighbors = list(relation1.values())[start_index:end_index]\n",
        "            neighbors.append(relation1[i])\n",
        "            if len(neighbors) < 5:\n",
        "                for _ in range(5-len(neighbors)):\n",
        "                    neighbors.append(torch.zeros(relation1[i].shape))\n",
        "            neighbors = [neighbor.to(device) for neighbor in neighbors]\n",
        "\n",
        "            query = torch.cat(neighbors, dim=1).to(device)\n",
        "            key = torch.cat(neighbors, dim=1).to(device)\n",
        "            value = torch.cat(neighbors, dim=1).to(device)\n",
        "            # Process attention\n",
        "            rel2 = self.attention2(query, key, value, extra_vector)\n",
        "            relation2[i] = rel2 # Shape (batch_size, 1, feature_dim)\n",
        "\n",
        "        # Compute Q values\n",
        "        q_values = []\n",
        "        for i in range(n_agents):\n",
        "            agent_q = self.q_network(team_features[:, i, :].unsqueeze(1), relation1[i], relation2[i]) # Shape (batch_size, 1, action_dim)\n",
        "            q_values.append(agent_q)\n",
        "\n",
        "        # Stack Q values to create Q table\n",
        "        q_values = torch.cat(q_values, dim=1) # Shape (batch_size, N, action_dim)\n",
        "\n",
        "        return q_values"
      ]
    },
    {
      "cell_type": "code",
      "execution_count": 13,
      "metadata": {
        "id": "JCE4fUtob1dr"
      },
      "outputs": [],
      "source": [
        "num_episodes = 30\n",
        "learning_rate = 0.001\n",
        "gamma = 0.95\n",
        "epsilon = 0.7\n",
        "epsilon_decay = 0.99\n",
        "target_update = 10\n",
        "max_steps = 300\n",
        "batch_size = 15\n",
        "handle = 'blue'"
      ]
    },
    {
      "cell_type": "code",
      "execution_count": 14,
      "metadata": {
        "id": "bHd6CtLMb1ds"
      },
      "outputs": [],
      "source": [
        "# Load pretrained agent\n",
        "from pretrained_agent import RED_DQN\n",
        "\n",
        "red_agent = RED_DQN()"
      ]
    },
    {
      "cell_type": "code",
      "execution_count": 15,
      "metadata": {
        "id": "r2s2s4njb1ds"
      },
      "outputs": [],
      "source": [
        "def epsilon_greedy_action(agent_idx, q_values, epsilon):\n",
        "    if np.random.rand() < epsilon:\n",
        "        return np.random.randint(21)\n",
        "    else:\n",
        "        return q_values[:, agent_idx].argmax().item()"
      ]
    },
    {
      "cell_type": "code",
      "execution_count": 16,
      "metadata": {
        "id": "dOkF-viIb1ds"
      },
      "outputs": [],
      "source": [
        "def update_target_model(model, target_model):\n",
        "    target_model.load_state_dict(model.state_dict())"
      ]
    },
    {
      "cell_type": "code",
      "execution_count": 17,
      "metadata": {
        "colab": {
          "base_uri": "https://localhost:8080/"
        },
        "id": "a0QUj6Gfb1dt",
        "outputId": "aeae8716-4970-45c8-ceab-17e026a07785"
      },
      "outputs": [
        {
          "data": {
            "text/plain": [
              "DGN(\n",
              "  (mlp): MLP(\n",
              "    (layers): Sequential(\n",
              "      (0): Flatten(start_dim=1, end_dim=-1)\n",
              "      (1): Linear(in_features=1521, out_features=512, bias=True)\n",
              "      (2): ReLU()\n",
              "      (3): Linear(in_features=512, out_features=128, bias=True)\n",
              "      (4): ReLU()\n",
              "    )\n",
              "  )\n",
              "  (attention1): MultiheadAttention(\n",
              "    (query_layer): Linear(in_features=128, out_features=128, bias=True)\n",
              "    (key_layer): Linear(in_features=128, out_features=128, bias=True)\n",
              "    (value_layer): Linear(in_features=128, out_features=128, bias=True)\n",
              "    (output_layer): Linear(in_features=128, out_features=128, bias=True)\n",
              "    (relu): ReLU()\n",
              "  )\n",
              "  (attention2): MultiheadAttention(\n",
              "    (query_layer): Linear(in_features=128, out_features=128, bias=True)\n",
              "    (key_layer): Linear(in_features=128, out_features=128, bias=True)\n",
              "    (value_layer): Linear(in_features=128, out_features=128, bias=True)\n",
              "    (output_layer): Linear(in_features=128, out_features=128, bias=True)\n",
              "    (relu): ReLU()\n",
              "  )\n",
              "  (q_network): QNetwork(\n",
              "    (network): Sequential(\n",
              "      (0): Linear(in_features=384, out_features=512, bias=True)\n",
              "      (1): ReLU()\n",
              "      (2): Linear(in_features=512, out_features=21, bias=True)\n",
              "    )\n",
              "  )\n",
              ")"
            ]
          },
          "execution_count": 17,
          "metadata": {},
          "output_type": "execute_result"
        }
      ],
      "source": [
        "blue_team = DGN()\n",
        "blue_team_target = DGN()\n",
        "\n",
        "blue_team.to(device)\n",
        "blue_team_target.to(device)\n",
        "\n",
        "update_target_model(blue_team, blue_team_target)\n",
        "optimizer = torch.optim.Adam(blue_team.parameters(), lr=learning_rate)\n",
        "criterion = nn.MSELoss()\n",
        "blue_team_target.eval()"
      ]
    },
    {
      "cell_type": "code",
      "execution_count": 18,
      "metadata": {
        "id": "kfBUdVbGb1du"
      },
      "outputs": [],
      "source": [
        "from ReplayBuffer import ReplayBuffer\n",
        "\n",
        "replay_buffer = ReplayBuffer(10000)"
      ]
    },
    {
      "cell_type": "code",
      "execution_count": 19,
      "metadata": {
        "colab": {
          "base_uri": "https://localhost:8080/"
        },
        "id": "zY2XGjYJb1du",
        "outputId": "4b004660-11dc-48f6-c352-f07f635fc772"
      },
      "outputs": [
        {
          "name": "stderr",
          "output_type": "stream",
          "text": [
            "Episode 1/30: 100%|█████████▉| 299/300 [05:25<00:01,  1.09s/it]\n"
          ]
        },
        {
          "name": "stdout",
          "output_type": "stream",
          "text": [
            "Episode 1/30, Total reward: -969.7950339373201, Epsilon: 0.693\n"
          ]
        },
        {
          "name": "stderr",
          "output_type": "stream",
          "text": [
            "Episode 2/30: 100%|██████████| 300/300 [05:28<00:00,  1.09s/it]\n"
          ]
        },
        {
          "name": "stdout",
          "output_type": "stream",
          "text": [
            "Episode 2/30, Total reward: -929.3900331715122, Epsilon: 0.68607\n"
          ]
        },
        {
          "name": "stderr",
          "output_type": "stream",
          "text": [
            "Episode 3/30: 100%|██████████| 300/300 [05:45<00:00,  1.15s/it]\n"
          ]
        },
        {
          "name": "stdout",
          "output_type": "stream",
          "text": [
            "Episode 3/30, Total reward: -934.0850342651829, Epsilon: 0.6792092999999999\n"
          ]
        },
        {
          "name": "stderr",
          "output_type": "stream",
          "text": [
            "Episode 4/30: 100%|██████████| 300/300 [05:35<00:00,  1.12s/it]\n"
          ]
        },
        {
          "name": "stdout",
          "output_type": "stream",
          "text": [
            "Episode 4/30, Total reward: -787.1900276495144, Epsilon: 0.6724172069999999\n"
          ]
        },
        {
          "name": "stderr",
          "output_type": "stream",
          "text": [
            "Episode 5/30: 100%|█████████▉| 299/300 [05:34<00:01,  1.12s/it]\n"
          ]
        },
        {
          "name": "stdout",
          "output_type": "stream",
          "text": [
            "Episode 5/30, Total reward: -805.2950272476301, Epsilon: 0.6656930349299999\n"
          ]
        },
        {
          "name": "stderr",
          "output_type": "stream",
          "text": [
            "Episode 6/30: 100%|█████████▉| 299/300 [05:38<00:01,  1.13s/it]\n"
          ]
        },
        {
          "name": "stdout",
          "output_type": "stream",
          "text": [
            "Episode 6/30, Total reward: -789.0950262686238, Epsilon: 0.6590361045806998\n"
          ]
        },
        {
          "name": "stderr",
          "output_type": "stream",
          "text": [
            "Episode 7/30: 100%|██████████| 300/300 [05:34<00:00,  1.11s/it]\n"
          ]
        },
        {
          "name": "stdout",
          "output_type": "stream",
          "text": [
            "Episode 7/30, Total reward: -786.3900270452723, Epsilon: 0.6524457435348928\n"
          ]
        },
        {
          "name": "stderr",
          "output_type": "stream",
          "text": [
            "Episode 8/30: 100%|██████████| 300/300 [05:23<00:00,  1.08s/it]\n"
          ]
        },
        {
          "name": "stdout",
          "output_type": "stream",
          "text": [
            "Episode 8/30, Total reward: -813.8850282831118, Epsilon: 0.6459212860995439\n"
          ]
        },
        {
          "name": "stderr",
          "output_type": "stream",
          "text": [
            "Episode 9/30: 100%|██████████| 300/300 [05:11<00:00,  1.04s/it]\n"
          ]
        },
        {
          "name": "stdout",
          "output_type": "stream",
          "text": [
            "Episode 9/30, Total reward: -733.5700266202912, Epsilon: 0.6394620732385484\n"
          ]
        },
        {
          "name": "stderr",
          "output_type": "stream",
          "text": [
            "Episode 10/30: 100%|█████████▉| 299/300 [05:16<00:01,  1.06s/it]\n"
          ]
        },
        {
          "name": "stdout",
          "output_type": "stream",
          "text": [
            "Episode 10/30, Total reward: -832.2950282981619, Epsilon: 0.6330674525061629\n"
          ]
        },
        {
          "name": "stderr",
          "output_type": "stream",
          "text": [
            "Episode 11/30: 100%|██████████| 300/300 [05:13<00:00,  1.04s/it]\n"
          ]
        },
        {
          "name": "stdout",
          "output_type": "stream",
          "text": [
            "Episode 11/30, Total reward: -808.5850283633918, Epsilon: 0.6267367779811013\n"
          ]
        },
        {
          "name": "stderr",
          "output_type": "stream",
          "text": [
            "Episode 12/30: 100%|██████████| 300/300 [05:19<00:00,  1.06s/it]\n"
          ]
        },
        {
          "name": "stdout",
          "output_type": "stream",
          "text": [
            "Episode 12/30, Total reward: -1102.690039953217, Epsilon: 0.6204694102012902\n"
          ]
        },
        {
          "name": "stderr",
          "output_type": "stream",
          "text": [
            "Episode 13/30: 100%|█████████▉| 299/300 [05:30<00:01,  1.11s/it]\n"
          ]
        },
        {
          "name": "stdout",
          "output_type": "stream",
          "text": [
            "Episode 13/30, Total reward: -830.2950280895457, Epsilon: 0.6142647160992774\n"
          ]
        },
        {
          "name": "stderr",
          "output_type": "stream",
          "text": [
            "Episode 14/30: 100%|██████████| 300/300 [05:26<00:00,  1.09s/it]\n"
          ]
        },
        {
          "name": "stdout",
          "output_type": "stream",
          "text": [
            "Episode 14/30, Total reward: -1157.9900421937928, Epsilon: 0.6081220689382846\n"
          ]
        },
        {
          "name": "stderr",
          "output_type": "stream",
          "text": [
            "Episode 15/30: 100%|█████████▉| 299/300 [05:23<00:01,  1.08s/it]\n"
          ]
        },
        {
          "name": "stdout",
          "output_type": "stream",
          "text": [
            "Episode 15/30, Total reward: -1059.0950379082933, Epsilon: 0.6020408482489017\n"
          ]
        },
        {
          "name": "stderr",
          "output_type": "stream",
          "text": [
            "Episode 16/30: 100%|██████████| 300/300 [05:23<00:00,  1.08s/it]\n"
          ]
        },
        {
          "name": "stdout",
          "output_type": "stream",
          "text": [
            "Episode 16/30, Total reward: -1002.1750373998657, Epsilon: 0.5960204397664127\n"
          ]
        },
        {
          "name": "stderr",
          "output_type": "stream",
          "text": [
            "Episode 17/30: 100%|██████████| 300/300 [05:28<00:00,  1.09s/it]\n"
          ]
        },
        {
          "name": "stdout",
          "output_type": "stream",
          "text": [
            "Episode 17/30, Total reward: -688.4750227006152, Epsilon: 0.5900602353687486\n"
          ]
        },
        {
          "name": "stderr",
          "output_type": "stream",
          "text": [
            "Episode 18/30: 100%|█████████▉| 299/300 [05:28<00:01,  1.10s/it]\n"
          ]
        },
        {
          "name": "stdout",
          "output_type": "stream",
          "text": [
            "Episode 18/30, Total reward: -723.4950233353302, Epsilon: 0.5841596330150611\n"
          ]
        },
        {
          "name": "stderr",
          "output_type": "stream",
          "text": [
            "Episode 19/30: 100%|██████████| 300/300 [05:13<00:00,  1.05s/it]\n"
          ]
        },
        {
          "name": "stdout",
          "output_type": "stream",
          "text": [
            "Episode 19/30, Total reward: -875.6800309345126, Epsilon: 0.5783180366849106\n"
          ]
        },
        {
          "name": "stderr",
          "output_type": "stream",
          "text": [
            "Episode 20/30: 100%|█████████▉| 299/300 [05:34<00:01,  1.12s/it]\n"
          ]
        },
        {
          "name": "stdout",
          "output_type": "stream",
          "text": [
            "Episode 20/30, Total reward: -697.0950223887339, Epsilon: 0.5725348563180614\n"
          ]
        },
        {
          "name": "stderr",
          "output_type": "stream",
          "text": [
            "Episode 21/30: 100%|█████████▉| 299/300 [05:44<00:01,  1.15s/it]\n"
          ]
        },
        {
          "name": "stdout",
          "output_type": "stream",
          "text": [
            "Episode 21/30, Total reward: -655.0950205223635, Epsilon: 0.5668095077548808\n"
          ]
        },
        {
          "name": "stderr",
          "output_type": "stream",
          "text": [
            "Episode 22/30: 100%|██████████| 300/300 [05:27<00:00,  1.09s/it]\n"
          ]
        },
        {
          "name": "stdout",
          "output_type": "stream",
          "text": [
            "Episode 22/30, Total reward: -701.8900228329003, Epsilon: 0.561141412677332\n"
          ]
        },
        {
          "name": "stderr",
          "output_type": "stream",
          "text": [
            "Episode 23/30: 100%|██████████| 300/300 [05:45<00:00,  1.15s/it]\n"
          ]
        },
        {
          "name": "stdout",
          "output_type": "stream",
          "text": [
            "Episode 23/30, Total reward: -611.0850207125768, Epsilon: 0.5555299985505586\n"
          ]
        },
        {
          "name": "stderr",
          "output_type": "stream",
          "text": [
            "Episode 24/30: 100%|█████████▉| 299/300 [05:37<00:01,  1.13s/it]\n"
          ]
        },
        {
          "name": "stdout",
          "output_type": "stream",
          "text": [
            "Episode 24/30, Total reward: -679.1950214877725, Epsilon: 0.549974698565053\n"
          ]
        },
        {
          "name": "stderr",
          "output_type": "stream",
          "text": [
            "Episode 25/30: 100%|██████████| 300/300 [05:24<00:00,  1.08s/it]\n"
          ]
        },
        {
          "name": "stdout",
          "output_type": "stream",
          "text": [
            "Episode 25/30, Total reward: -529.3400206984952, Epsilon: 0.5444749515794024\n"
          ]
        },
        {
          "name": "stderr",
          "output_type": "stream",
          "text": [
            "Episode 26/30: 100%|██████████| 300/300 [05:33<00:00,  1.11s/it]\n"
          ]
        },
        {
          "name": "stdout",
          "output_type": "stream",
          "text": [
            "Episode 26/30, Total reward: -741.2950246185064, Epsilon: 0.5390302020636084\n"
          ]
        },
        {
          "name": "stderr",
          "output_type": "stream",
          "text": [
            "Episode 27/30: 100%|██████████| 300/300 [05:46<00:00,  1.15s/it]\n"
          ]
        },
        {
          "name": "stdout",
          "output_type": "stream",
          "text": [
            "Episode 27/30, Total reward: -682.2050223331898, Epsilon: 0.5336399000429723\n"
          ]
        },
        {
          "name": "stderr",
          "output_type": "stream",
          "text": [
            "Episode 28/30: 100%|██████████| 300/300 [05:41<00:00,  1.14s/it]\n"
          ]
        },
        {
          "name": "stdout",
          "output_type": "stream",
          "text": [
            "Episode 28/30, Total reward: -720.4250247180462, Epsilon: 0.5283035010425426\n"
          ]
        },
        {
          "name": "stderr",
          "output_type": "stream",
          "text": [
            "Episode 29/30: 100%|██████████| 300/300 [05:51<00:00,  1.17s/it]\n"
          ]
        },
        {
          "name": "stdout",
          "output_type": "stream",
          "text": [
            "Episode 29/30, Total reward: -727.5850235382095, Epsilon: 0.5230204660321172\n"
          ]
        },
        {
          "name": "stderr",
          "output_type": "stream",
          "text": [
            "Episode 30/30: 100%|██████████| 300/300 [05:28<00:00,  1.10s/it]"
          ]
        },
        {
          "name": "stdout",
          "output_type": "stream",
          "text": [
            "Episode 30/30, Total reward: -639.3550214357674, Epsilon: 0.517790261371796\n"
          ]
        },
        {
          "name": "stderr",
          "output_type": "stream",
          "text": [
            "\n"
          ]
        }
      ],
      "source": [
        "for episode in range(num_episodes):\n",
        "    env.reset()\n",
        "    # Get initial observations\n",
        "    team_observations, adj_matrices = process_timestep(env, handle)\n",
        "    episode_reward = 0\n",
        "\n",
        "    for step in tqdm(range(max_steps), desc=f\"Episode {episode+1}/{num_episodes}\"):\n",
        "        actions = [] # Store actions for blue agent\n",
        "        rewards = [] # Store rewards for blue agent\n",
        "\n",
        "        dones = [env.terminations.get(agent_id, True) or env.truncations.get(agent_id, True) for agent_id in [f\"{handle}_{i}\" for i in range(81)]]\n",
        "\n",
        "        team_observations = [obs.to(device) for obs in team_observations] # Move observations to GPU\n",
        "        adj_matrices = [adj_matrix.to(device) for adj_matrix in adj_matrices] # Move adj_matrices to GPU\n",
        "        q_values = blue_team(team_observations, adj_matrices)\n",
        "\n",
        "        dead_agents = find_dead(env, handle)\n",
        "\n",
        "        # Get actions for each agent\n",
        "        for agent in env.agent_iter():\n",
        "            end = agent == env.agents[-1]\n",
        "            observation, reward, terminated, truncated, _ = env.last()\n",
        "            if terminated or truncated:\n",
        "                action = None\n",
        "                if \"blue\" in agent:\n",
        "                    actions.append(0)\n",
        "                    rewards.append(-10)\n",
        "            elif \"red\" in agent:\n",
        "                obs = torch.Tensor(env.observe(agent))\n",
        "                action = red_agent.get_action(obs)\n",
        "            elif \"blue\" in agent:\n",
        "                # env.agent_selection = blue_0\n",
        "                agent_idx = int(agent.split('_')[1])\n",
        "                action = epsilon_greedy_action(agent_idx, q_values, epsilon)\n",
        "                actions.append(action)\n",
        "                rewards.append(reward)\n",
        "            env.step(action)\n",
        "\n",
        "            if end:\n",
        "                break\n",
        "\n",
        "        for dead_agent in dead_agents:\n",
        "            actions.insert(dead_agent, None)\n",
        "            rewards.insert(dead_agent, 0)\n",
        "        # Get next state\n",
        "        next_observations, next_adj_matrices = process_timestep(env, handle)\n",
        "\n",
        "        if len(team_observations) != len(next_observations) or len(actions) != len(next_observations) or len(dones) != len(next_observations):\n",
        "            continue\n",
        "        else:\n",
        "            replay_buffer.add(team_observations, actions, rewards, next_observations, torch.Tensor(dones), adj_matrices)\n",
        "\n",
        "        if replay_buffer.count() > batch_size:\n",
        "            observations_, actions_, rewards_, next_observations_, dones_, adj_matrices_ = replay_buffer.getBatch(batch_size)\n",
        "\n",
        "            observations_ = observations_.to(device)\n",
        "            actions_ = actions_.to(device)\n",
        "            rewards_ = rewards_.to(device)\n",
        "            next_observations_ = next_observations_.to(device)\n",
        "            dones_ = dones_.to(device)\n",
        "            adj_matrices_ = adj_matrices_.to(device)\n",
        "\n",
        "            # Compute target Q values\n",
        "            observations_ = list(observations_.unbind(0))\n",
        "            adj_matrices_ = list(adj_matrices_.unbind(0))\n",
        "            next_observations_ = list(next_observations_.unbind(0))\n",
        "\n",
        "            with torch.no_grad():\n",
        "                target_values = rewards_.T + gamma * blue_team_target(observations_, adj_matrices_).max(dim=-1).values * (1 - dones_.T)\n",
        "            q_values_ = blue_team(next_observations_, adj_matrices_) # Shape (batch_size, N, action_dim)\n",
        "\n",
        "            actions_ = actions_.T # Shape (batch_size, N)\n",
        "\n",
        "            q_values_ = q_values_[torch.arange(batch_size).unsqueeze(1), torch.arange(81).unsqueeze(0), actions_] # Shape (batch_size, N)\n",
        "            # Compute loss\n",
        "            loss = criterion(q_values_, target_values)\n",
        "\n",
        "            # Backpropagation\n",
        "            optimizer.zero_grad()\n",
        "            loss.backward()\n",
        "            optimizer.step()\n",
        "\n",
        "            # Soft update target network\n",
        "            for target_param, param in zip(blue_team_target.parameters(), blue_team.parameters()):\n",
        "                target_param.data.copy_(0.99 * target_param.data + 0.01 * param.data)\n",
        "\n",
        "        # Update state\n",
        "        observations = next_observations\n",
        "        adj_matrices = next_adj_matrices\n",
        "        episode_reward += sum(rewards)\n",
        "        if all(dones) or all([env.terminations.get(agent_id, True) or env.truncations.get(agent_id, True) for agent_id in [f\"red_{i}\" for i in range(81)]]):\n",
        "            break\n",
        "\n",
        "    epsilon = max(0.1, epsilon * epsilon_decay)\n",
        "\n",
        "    # Logging\n",
        "\n",
        "    tqdm.write(f\"Episode {episode+1}/{num_episodes}, Total reward: {episode_reward}, Epsilon: {epsilon}\")"
      ]
    },
    {
      "cell_type": "code",
      "execution_count": 20,
      "metadata": {
        "id": "z-s1n8T2b1dw"
      },
      "outputs": [],
      "source": [
        "torch.save(blue_team.state_dict(), 'blue_team_model_V3.pth')"
      ]
    },
    {
      "cell_type": "code",
      "execution_count": 22,
      "metadata": {},
      "outputs": [
        {
          "data": {
            "text/plain": [
              "<matplotlib.image.AxesImage at 0x1691b249cc0>"
            ]
          },
          "execution_count": 22,
          "metadata": {},
          "output_type": "execute_result"
        },
        {
          "data": {
            "image/png": "[encoded data removed]",
            "text/plain": [
              "<Figure size 640x480 with 1 Axes>"
            ]
          },
          "metadata": {},
          "output_type": "display_data"
        }
      ],
      "source": [
        "plt.imshow(env.render())"
      ]
    }
  ],
  "metadata": {
    "accelerator": "GPU",
    "colab": {
      "gpuType": "T4",
      "provenance": []
    },
    "kernelspec": {
      "display_name": "Python 3",
      "name": "python3"
    },
    "language_info": {
      "codemirror_mode": {
        "name": "ipython",
        "version": 3
      },
      "file_extension": ".py",
      "mimetype": "text/x-python",
      "name": "python",
      "nbconvert_exporter": "python",
      "pygments_lexer": "ipython3",
      "version": "3.10.11"
    }
  },
  "nbformat": 4,
  "nbformat_minor": 0
}
