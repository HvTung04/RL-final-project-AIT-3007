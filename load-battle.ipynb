{
 "cells": [
  {
   "cell_type": "code",
   "execution_count": 14,
   "metadata": {},
   "outputs": [],
   "source": [
    "from magent2.environments import battle_v4\n",
    "import os\n",
    "import cv2\n",
    "from final_pretrained_agent import BOSS_DQN\n",
    "from pretrained_agent import NOOB_DQN\n",
    "from self_trained_agent import DoubleQPolicy, DuelingQPolicy\n",
    "import torch"
   ]
  },
  {
   "cell_type": "code",
   "execution_count": 15,
   "metadata": {},
   "outputs": [],
   "source": [
    "env = battle_v4.env(map_size=45, render_mode=\"rgb_array\", max_cycles=300)"
   ]
  },
  {
   "cell_type": "code",
   "execution_count": 16,
   "metadata": {},
   "outputs": [],
   "source": [
    "vid_dir = \"video\"\n",
    "os.makedirs(vid_dir, exist_ok=True)\n",
    "fps = 35\n",
    "frames = []"
   ]
  },
  {
   "cell_type": "code",
   "execution_count": 17,
   "metadata": {},
   "outputs": [],
   "source": [
    "boss_red = BOSS_DQN()\n",
    "self_blue = DoubleQPolicy(\"solution\\DeepQNetwork\\Double Q\\\\trained_pth\\\\blue_deepQ.pth\")"
   ]
  },
  {
   "cell_type": "code",
   "execution_count": 18,
   "metadata": {},
   "outputs": [
    {
     "data": {
      "text/plain": [
       "18"
      ]
     },
     "execution_count": 18,
     "metadata": {},
     "output_type": "execute_result"
    }
   ],
   "source": [
    "test_input = torch.rand(13, 13, 5)\n",
    "boss_red.get_action(test_input)\n",
    "self_blue.get_action(test_input)"
   ]
  },
  {
   "cell_type": "code",
   "execution_count": 19,
   "metadata": {},
   "outputs": [],
   "source": [
    "frames = []\n",
    "env.reset()\n",
    "\n",
    "for agent in env.agent_iter():\n",
    "    observation, reward, termination, truncation, info = env.last()\n",
    "\n",
    "    if termination or truncation:\n",
    "        action = None\n",
    "    else:\n",
    "        agent_handle = agent.split(\"_\")[0]\n",
    "        observation = torch.tensor(observation)\n",
    "        if agent_handle == \"red\":\n",
    "            with torch.no_grad():\n",
    "                action = boss_red.get_action(observation)\n",
    "        else:\n",
    "            with torch.no_grad():\n",
    "                action = self_blue.get_action(observation)\n",
    "    env.step(action)\n",
    "\n",
    "    if env.agents and agent == env.agents[-1]:\n",
    "        frames.append(env.render())\n",
    "\n",
    "height, width, _ = frames[0].shape\n",
    "out = cv2.VideoWriter(\n",
    "    os.path.join(vid_dir, \"battle.mp4\"),\n",
    "    cv2.VideoWriter_fourcc(*\"mp4v\"),\n",
    "    fps,\n",
    "    (width, height),\n",
    ")\n",
    "\n",
    "for frame in frames:\n",
    "    frame_bgr = cv2.cvtColor(frame, cv2.COLOR_RGB2BGR)\n",
    "    out.write(frame_bgr)\n",
    "out.release()\n",
    "env.close()"
   ]
  }
 ],
 "metadata": {
  "kernelspec": {
   "display_name": ".venv",
   "language": "python",
   "name": "python3"
  },
  "language_info": {
   "codemirror_mode": {
    "name": "ipython",
    "version": 3
   },
   "file_extension": ".py",
   "mimetype": "text/x-python",
   "name": "python",
   "nbconvert_exporter": "python",
   "pygments_lexer": "ipython3",
   "version": "3.10.0"
  }
 },
 "nbformat": 4,
 "nbformat_minor": 2
}
